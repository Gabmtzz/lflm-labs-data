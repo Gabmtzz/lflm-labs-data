{
 "cells": [
  {
   "cell_type": "code",
   "execution_count": 1,
   "metadata": {},
   "outputs": [
    {
     "name": "stdout",
     "output_type": "stream",
     "text": [
      "|  No. Dir  | Name Dir                                 |  No. files  |\n",
      "|-----------|------------------------------------------|-------------|\n",
      "|     0     | nano/grating/exp-2021-10/2021-10-22-afm  |      1      |\n",
      "|     1     | nano/grating/exp-2021-10/2021-10-23-afm  |      1      |\n",
      "|     2     | nano/grating/exp-2021-10/2021-10-26-afm  |      1      |\n",
      "|     3     | nano/grating/exp-2022-01/2022-01-12-afm  |      1      |\n",
      "|     4     | nano/grating/exp-2022-01/2022-01-13-afm  |      1      |\n",
      "|     5     | nano/grating_InP/exp_21-11/exp_04-11_afm |      3      |\n",
      "|     6     | nano/grating_InP/exp_21-11/exp_06-11_afm |      2      |\n",
      "|     7     | nano/grating_InP/exp_22-01/exp_13_01_afm |      3      |\n",
      "|     8     | nano/grating_InP/exp_22-01/exp_14_01_afm |      1      |\n"
     ]
    }
   ],
   "source": [
    "%matplotlib widget\n",
    "import numpy as np\n",
    "import matplotlib.pyplot as plt\n",
    "import h5py as h5\n",
    "import os\n",
    "import glob\n",
    "from os import walk\n",
    "from mpl_toolkits.mplot3d import Axes3D\n",
    "from matplotlib.gridspec import GridSpec\n",
    "from IPython.display import display, clear_output\n",
    "from labexp import experiments\n",
    "\n",
    "path = '/media/labfiles/lab-exps/spectro-lab/nano/grating/exp-2022-01/2022-01-12-afm/'\n",
    "\n",
    "exp3 = experiments(1,'nano','afm','grating')\n",
    "#50 nm step x\n"
   ]
  },
  {
   "cell_type": "code",
   "execution_count": 2,
   "metadata": {},
   "outputs": [
    {
     "data": {
      "application/vnd.jupyter.widget-view+json": {
       "model_id": "bd9bfd0f5bd140d88f21fbc0a3197438",
       "version_major": 2,
       "version_minor": 0
      },
      "text/plain": [
       "Canvas(toolbar=Toolbar(toolitems=[('Home', 'Reset original view', 'home', 'home'), ('Back', 'Back to previous …"
      ]
     },
     "metadata": {},
     "output_type": "display_data"
    }
   ],
   "source": [
    "fig = plt.figure(figsize=(15, 7))\n",
    "gs = GridSpec(nrows=3, ncols=2, figure=fig,wspace=0.05,width_ratios=[1,1])\n",
    "\n",
    "ax1 = fig.add_subplot(gs[0, 0])\n",
    "ax1line = fig.add_subplot(gs[0, 1])\n",
    "ax2 = fig.add_subplot(gs[1, 0])\n",
    "ax2line = fig.add_subplot(gs[1, 1])\n",
    "ax3 = fig.add_subplot(gs[2, 0])\n",
    "ax3line = fig.add_subplot(gs[2, 1])\n",
    "\n",
    "\n",
    "npix1=5\n",
    "npix2=1\n",
    "npix3=9\n",
    "\n",
    "ax1.imshow(exp3.data[0][0].T,cmap='gray',interpolation='gaussian')\n",
    "ax1.plot([0,10],[npix1,npix1],'r')\n",
    "ax1.plot([0,10],[npix2,npix2],'b')\n",
    "ax1.plot([0,10],[npix3,npix3],'k')\n",
    "\n",
    "ax2.imshow(exp3.data[1][0].T,cmap='gray',interpolation='gaussian')\n",
    "ax2.plot([0,10],[npix1,npix1],'r')\n",
    "ax2.plot([0,10],[npix2,npix2],'b')\n",
    "ax2.plot([0,10],[npix3,npix3],'k')\n",
    "\n",
    "ax3.imshow(exp3.data[2][0].T,cmap='gray',interpolation='gaussian')\n",
    "ax3.plot([0,18],[npix1,npix1],'r')\n",
    "ax3.plot([0,18],[npix2,npix2],'b')\n",
    "ax3.plot([0,18],[npix3,npix3],'k')\n",
    "\n",
    "\n",
    "#ax5.plot([0,20],[npix1,npix1],'r')\n",
    "#ax5.plot([0,20],[npix2,npix2],'b')\n",
    "\n",
    "ax1line.set_xlabel(\" $x (nm)$\")\n",
    "ax1line.plot(exp3.data[0][0][npix1],'r')\n",
    "ax1line.plot(exp3.data[0][0][npix2],'b')\n",
    "ax1line.plot(exp3.data[0][0][npix3],'k')\n",
    "ax1line.set_xticks(np.arange(0,10,2))\n",
    "ax1line.set_xticklabels(np.arange(0,10,2)*50)\n",
    "\n",
    "ax2line.set_xlabel(\" $x (nm)$\")\n",
    "ax2line.plot(exp3.data[1][0][npix1],'r')\n",
    "ax2line.plot(exp3.data[1][0][npix2],'b')\n",
    "ax2line.plot(exp3.data[1][0][npix3],'k')\n",
    "ax2line.set_xticks(np.arange(0,10,2))\n",
    "ax2line.set_xticklabels(np.arange(0,10,2)*50)\n",
    "\n",
    "ax3line.set_xlabel(\" $x (nm)$\")\n",
    "ax3line.plot(exp3.data[2][0][npix1],'r')\n",
    "ax3line.plot(exp3.data[2][0][npix2],'b')\n",
    "ax3line.plot(exp3.data[2][0][npix3],'k')\n",
    "ax3line.set_xticks(np.arange(0,18,2))\n",
    "ax3line.set_xticklabels(np.arange(0,18,2)*50)\n",
    "plt.show()"
   ]
  },
  {
   "cell_type": "code",
   "execution_count": 38,
   "metadata": {},
   "outputs": [
    {
     "data": {
      "application/vnd.jupyter.widget-view+json": {
       "model_id": "71303fb1578549bba9d0bb6d64e4ad9f",
       "version_major": 2,
       "version_minor": 0
      },
      "text/plain": [
       "Canvas(toolbar=Toolbar(toolitems=[('Home', 'Reset original view', 'home', 'home'), ('Back', 'Back to previous …"
      ]
     },
     "metadata": {},
     "output_type": "display_data"
    },
    {
     "data": {
      "text/plain": [
       "[Text(0, 0, '0'),\n",
       " Text(2, 0, '100'),\n",
       " Text(4, 0, '200'),\n",
       " Text(6, 0, '300'),\n",
       " Text(8, 0, '400'),\n",
       " Text(10, 0, '500'),\n",
       " Text(12, 0, '600'),\n",
       " Text(14, 0, '700'),\n",
       " Text(16, 0, '800'),\n",
       " Text(18, 0, '900')]"
      ]
     },
     "execution_count": 38,
     "metadata": {},
     "output_type": "execute_result"
    }
   ],
   "source": [
    "fig2 = plt.figure(figsize=(15, 7))\n",
    "gs = GridSpec(nrows=2, ncols=2, figure=fig2,wspace=0.2,width_ratios=[1,1])\n",
    "\n",
    "ax4 = fig2.add_subplot(gs[0, 0])\n",
    "ax4line = fig2.add_subplot(gs[0, 1])\n",
    "ax5 = fig2.add_subplot(gs[1, 0])\n",
    "ax5line = fig2.add_subplot(gs[1, 1])\n",
    "\n",
    "ax4.imshow(exp3.data[3][0].T,cmap='gray',interpolation='gaussian')\n",
    "ax4.plot([0,20],[npix1,npix1],'r')\n",
    "ax4.plot([0,20],[npix2,npix2],'b')\n",
    "#ax4.plot([0,20],[npix3,npix3],'k')\n",
    "\n",
    "ax5.imshow(exp3.data[4][0].T,cmap='gray',interpolation='gaussian')\n",
    "ax5.plot([0,45],[npix2,npix2],'r')\n",
    "\n",
    "ax4line.set_xlabel(\" $x (nm)$\")\n",
    "ax4line.plot(exp3.data[3][0][npix1],'r')\n",
    "ax4line.plot(exp3.data[3][0][npix2],'b')\n",
    "ax4line.plot(exp3.data[3][0][npix3],'k')\n",
    "ax4line.set_xticks(np.arange(0,20,2))\n",
    "ax4line.set_xticklabels(np.arange(0,20,2)*50)\n",
    "\n",
    "ax5line.set_xlabel(\" $x (nm)$\")\n",
    "ax5line.plot(exp3.data[4][0][npix1],'r')\n",
    "ax5line.plot(exp3.data[4][0][npix2],'b')\n",
    "ax5line.plot(exp3.data[4][0][npix3],'k')\n",
    "ax5line.set_xticks(np.arange(0,20,2))\n",
    "ax5line.set_xticklabels(np.arange(0,20,2)*50)\n",
    "\n"
   ]
  },
  {
   "cell_type": "code",
   "execution_count": 39,
   "metadata": {},
   "outputs": [
    {
     "data": {
      "application/vnd.jupyter.widget-view+json": {
       "model_id": "874ddbdf73b240768fa4f0fdd28240e9",
       "version_major": 2,
       "version_minor": 0
      },
      "text/plain": [
       "Canvas(toolbar=Toolbar(toolitems=[('Home', 'Reset original view', 'home', 'home'), ('Back', 'Back to previous …"
      ]
     },
     "metadata": {},
     "output_type": "display_data"
    },
    {
     "data": {
      "text/plain": [
       "<mpl_toolkits.mplot3d.art3d.Poly3DCollection at 0x7faee0ed1a30>"
      ]
     },
     "execution_count": 39,
     "metadata": {},
     "output_type": "execute_result"
    }
   ],
   "source": [
    "X=np.linspace(0,500,11)\n",
    "Y=np.linspace(0,500,11)\n",
    "\n",
    "x, y = np.meshgrid(X,Y)\n",
    "z = np.array(exp3.data[0][0])\n",
    "\n",
    "fig3 = plt.figure()\n",
    "ax = plt.axes(projection='3d')\n",
    "ax.plot_surface(x,y,z,rstride=1, cstride=1,\n",
    "                cmap='viridis', edgecolor='none')"
   ]
  },
  {
   "cell_type": "code",
   "execution_count": 40,
   "metadata": {},
   "outputs": [
    {
     "data": {
      "application/vnd.jupyter.widget-view+json": {
       "model_id": "68b59ab238684196a8130fb39b246785",
       "version_major": 2,
       "version_minor": 0
      },
      "text/plain": [
       "Canvas(toolbar=Toolbar(toolitems=[('Home', 'Reset original view', 'home', 'home'), ('Back', 'Back to previous …"
      ]
     },
     "metadata": {},
     "output_type": "display_data"
    },
    {
     "data": {
      "text/plain": [
       "<mpl_toolkits.mplot3d.art3d.Poly3DCollection at 0x7faee1087a30>"
      ]
     },
     "execution_count": 40,
     "metadata": {},
     "output_type": "execute_result"
    }
   ],
   "source": [
    "X=np.linspace(0,500,19)\n",
    "Y=np.linspace(0,500,19)\n",
    "\n",
    "x, y = np.meshgrid(Y,X)\n",
    "z = np.array(exp3.data[2][0])\n",
    "#print(np.shape(y))\n",
    "\n",
    "fig3 = plt.figure()\n",
    "ax = plt.axes(projection='3d')\n",
    "ax.plot_surface(x,y,z,rstride=1, cstride=1,\n",
    "                cmap='viridis', edgecolor='none')"
   ]
  },
  {
   "cell_type": "code",
   "execution_count": 41,
   "metadata": {},
   "outputs": [
    {
     "data": {
      "application/vnd.jupyter.widget-view+json": {
       "model_id": "bac527b48a6648659c826498688d659e",
       "version_major": 2,
       "version_minor": 0
      },
      "text/plain": [
       "Canvas(toolbar=Toolbar(toolitems=[('Home', 'Reset original view', 'home', 'home'), ('Back', 'Back to previous …"
      ]
     },
     "metadata": {},
     "output_type": "display_data"
    },
    {
     "data": {
      "text/plain": [
       "<mpl_toolkits.mplot3d.art3d.Poly3DCollection at 0x7faee050a520>"
      ]
     },
     "execution_count": 41,
     "metadata": {},
     "output_type": "execute_result"
    }
   ],
   "source": [
    "X=np.linspace(0,90,46)\n",
    "Y=np.linspace(0,6,3)\n",
    "\n",
    "x, y = np.meshgrid(Y,X)\n",
    "z = np.array(exp3.data[4][0])\n",
    "#print(np.shape(y))\n",
    "\n",
    "fig3 = plt.figure()\n",
    "ax = plt.axes(projection='3d')\n",
    "ax.plot_surface(x,y,z,rstride=1, cstride=1,\n",
    "                cmap='viridis', edgecolor='none')\n"
   ]
  },
  {
   "cell_type": "code",
   "execution_count": 42,
   "metadata": {},
   "outputs": [
    {
     "data": {
      "application/vnd.jupyter.widget-view+json": {
       "model_id": "7220aa68197f4cd89110bafd821e4a46",
       "version_major": 2,
       "version_minor": 0
      },
      "text/plain": [
       "Canvas(toolbar=Toolbar(toolitems=[('Home', 'Reset original view', 'home', 'home'), ('Back', 'Back to previous …"
      ]
     },
     "metadata": {},
     "output_type": "display_data"
    },
    {
     "data": {
      "text/plain": [
       "<mpl_toolkits.mplot3d.art3d.Poly3DCollection at 0x7faee04987c0>"
      ]
     },
     "execution_count": 42,
     "metadata": {},
     "output_type": "execute_result"
    }
   ],
   "source": [
    "X=np.linspace(0,90,21)\n",
    "Y=np.linspace(0,12,6)\n",
    "\n",
    "x, y = np.meshgrid(Y,X)\n",
    "z = np.array(exp3.data[3][0])\n",
    "#print(np.shape(y))\n",
    "\n",
    "fig4 = plt.figure()\n",
    "ax = plt.axes(projection='3d')\n",
    "ax.plot_surface(x,y,z,rstride=1, cstride=1,\n",
    "                cmap='viridis', edgecolor='none')"
   ]
  },
  {
   "cell_type": "code",
   "execution_count": 43,
   "metadata": {},
   "outputs": [
    {
     "name": "stdout",
     "output_type": "stream",
     "text": [
      "|  No. Dir  | Name Dir                                 |  No. files  |\n",
      "|-----------|------------------------------------------|-------------|\n",
      "|     0     | nano/grating_InP/exp_21-11/exp_04-11_afm |      3      |\n",
      "|     1     | nano/grating_InP/exp_21-11/exp_06-11_afm |      2      |\n",
      "|     2     | nano/grating_InP/exp_22-01/exp_13_01_afm |      3      |\n",
      "|     3     | nano/grating_InP/exp_22-01/exp_14_01_afm |      1      |\n"
     ]
    }
   ],
   "source": [
    "exp2 = experiments(1,'nano','afm','grating_InP' )"
   ]
  },
  {
   "cell_type": "code",
   "execution_count": 78,
   "metadata": {},
   "outputs": [
    {
     "data": {
      "application/vnd.jupyter.widget-view+json": {
       "model_id": "72484aee127244eba3975fffaeccc1af",
       "version_major": 2,
       "version_minor": 0
      },
      "text/plain": [
       "Canvas(toolbar=Toolbar(toolitems=[('Home', 'Reset original view', 'home', 'home'), ('Back', 'Back to previous …"
      ]
     },
     "metadata": {},
     "output_type": "display_data"
    }
   ],
   "source": [
    "from mpl_toolkits.mplot3d.axes3d import get_test_data\n",
    "\n",
    "fig2 = plt.figure(figsize=(15, 7))\n",
    "gs2 = GridSpec(nrows=1, ncols=2, figure=fig,wspace=0.05,width_ratios=[1,1])\n",
    "\n",
    "ax3d = fig2.add_subplot(gs2[0, 0], projection='3d')\n",
    "ax3d2 = fig2.add_subplot(gs2[0,1],projection='3d')\n",
    "\n",
    "ax3d.title.set_text('Grating 0-250um')\n",
    "ax3d2.title.set_text('Grating 0-90um')\n",
    "\n",
    "X=np.linspace(0,250,51)\n",
    "Y=np.linspace(0,30,3)\n",
    "X2=np.linspace(0,90,46)\n",
    "Y2=np.linspace(0,15,3)\n",
    "\n",
    "x2, y2 = np.meshgrid(Y2,X2)\n",
    "z2 = np.array(exp2.data[2][2])\n",
    "x, y = np.meshgrid(Y,X)\n",
    "z = np.array(exp2.data[3][0])\n",
    "\n",
    "surf1 = ax3d.plot_surface(x,y,z, rstride=1, cstride=1,\n",
    "                cmap='viridis', edgecolor='none')\n",
    "surf2 = ax3d2.plot_surface(x2,y2,z2, rstride=1, cstride=1,\n",
    "                cmap='viridis', edgecolor='none')\n"
   ]
  },
  {
   "cell_type": "code",
   "execution_count": null,
   "metadata": {},
   "outputs": [],
   "source": []
  }
 ],
 "metadata": {
  "interpreter": {
   "hash": "0290bcaed8ae727158078249bd81fa4aee6fb57ec1a898a94a9d63670f3f9ab0"
  },
  "kernelspec": {
   "display_name": "Python 3",
   "language": "python",
   "name": "python3"
  },
  "language_info": {
   "codemirror_mode": {
    "name": "ipython",
    "version": 3
   },
   "file_extension": ".py",
   "mimetype": "text/x-python",
   "name": "python",
   "nbconvert_exporter": "python",
   "pygments_lexer": "ipython3",
   "version": "3.8.8"
  }
 },
 "nbformat": 4,
 "nbformat_minor": 4
}
