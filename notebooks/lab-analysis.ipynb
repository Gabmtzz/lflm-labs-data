{
 "cells": [
  {
   "cell_type": "code",
   "execution_count": 1,
   "metadata": {},
   "outputs": [],
   "source": [
    "using DataFrames,CSV\n",
    "using PGFPlotsX\n",
    "using Glob\n",
    "using Colors"
   ]
  },
  {
   "cell_type": "code",
   "execution_count": 12,
   "metadata": {},
   "outputs": [
    {
     "ename": "Base.IOError",
     "evalue": "IOError: readdir(\"/media/labfiles/lab-exps/readme.md\"): not a directory (ENOTDIR)",
     "output_type": "error",
     "traceback": [
      "IOError: readdir(\"/media/labfiles/lab-exps/readme.md\"): not a directory (ENOTDIR)\n",
      "\n",
      "Stacktrace:\n",
      "  [1] uv_error\n",
      "    @ ./libuv.jl:97 [inlined]\n",
      "  [2] readdir(dir::String; join::Bool, sort::Bool)\n",
      "    @ Base.Filesystem ./file.jl:851\n",
      "  [3] readdir(dir::String)\n",
      "    @ Base.Filesystem ./file.jl:846\n",
      "  [4] top-level scope\n",
      "    @ /media/labfiles/ruco/repos/lflm-labs-data/notebooks/lab-analysis.ipynb:19\n",
      "  [5] eval\n",
      "    @ ./boot.jl:373 [inlined]\n",
      "  [6] include_string(mapexpr::typeof(REPL.softscope), mod::Module, code::String, filename::String)\n",
      "    @ Base ./loading.jl:1196\n",
      "  [7] #invokelatest#2\n",
      "    @ ./essentials.jl:716 [inlined]\n",
      "  [8] invokelatest\n",
      "    @ ./essentials.jl:714 [inlined]\n",
      "  [9] (::VSCodeServer.var\"#164#165\"{VSCodeServer.NotebookRunCellArguments, String})()\n",
      "    @ VSCodeServer ~/.vscode-server/extensions/julialang.language-julia-1.6.17/scripts/packages/VSCodeServer/src/serve_notebook.jl:19\n",
      " [10] withpath(f::VSCodeServer.var\"#164#165\"{VSCodeServer.NotebookRunCellArguments, String}, path::String)\n",
      "    @ VSCodeServer ~/.vscode-server/extensions/julialang.language-julia-1.6.17/scripts/packages/VSCodeServer/src/repl.jl:184\n",
      " [11] notebook_runcell_request(conn::VSCodeServer.JSONRPC.JSONRPCEndpoint{Base.PipeEndpoint, Base.PipeEndpoint}, params::VSCodeServer.NotebookRunCellArguments)\n",
      "    @ VSCodeServer ~/.vscode-server/extensions/julialang.language-julia-1.6.17/scripts/packages/VSCodeServer/src/serve_notebook.jl:13\n",
      " [12] dispatch_msg(x::VSCodeServer.JSONRPC.JSONRPCEndpoint{Base.PipeEndpoint, Base.PipeEndpoint}, dispatcher::VSCodeServer.JSONRPC.MsgDispatcher, msg::Dict{String, Any})\n",
      "    @ VSCodeServer.JSONRPC ~/.vscode-server/extensions/julialang.language-julia-1.6.17/scripts/packages/JSONRPC/src/typed.jl:67\n",
      " [13] serve_notebook(pipename::String, outputchannel_logger::Base.CoreLogging.SimpleLogger; crashreporting_pipename::String)\n",
      "    @ VSCodeServer ~/.vscode-server/extensions/julialang.language-julia-1.6.17/scripts/packages/VSCodeServer/src/serve_notebook.jl:136\n",
      " [14] top-level scope\n",
      "    @ ~/.vscode-server/extensions/julialang.language-julia-1.6.17/scripts/notebook/notebook.jl:32\n",
      " [15] include(mod::Module, _path::String)\n",
      "    @ Base ./Base.jl:418\n",
      " [16] exec_options(opts::Base.JLOptions)\n",
      "    @ Base ./client.jl:292\n",
      " [17] _start()\n",
      "    @ Base ./client.jl:495"
     ]
    }
   ],
   "source": [
    "path=\"/media/labfiles/lab-exps/\"\n",
    "\n",
    "function list_files(path::AbstractString=\".\"; pattern::Regex=r\"\", all_files::Bool=true, full_names::Bool=false)::Vector{String}\n",
    "    \n",
    "    files = [file for file in readdir(path) if isfile(abspath(joinpath(path, file)))]\n",
    "    if pattern != r\"\"\n",
    "        files = [m.match for m in match.(pattern, files) if m != nothing]\n",
    "    end\n",
    "    if !all_files && Sys.isunix()\n",
    "        files = [file for file in files if !startswith(file, '.')]\n",
    "    end\n",
    "    if full_names\n",
    "        files = realpath.(files)\n",
    "    end\n",
    "    return files\n",
    "end\n",
    "\n",
    "for folder in readdir(path)\n",
    "    for file in readdir(path*folder)\n",
    "        println(file)\n",
    "    end\n",
    "\n",
    "end"
   ]
  }
 ],
 "metadata": {
  "kernelspec": {
   "display_name": "Julia 1.7.3",
   "language": "julia",
   "name": "julia-1.7"
  },
  "language_info": {
   "file_extension": ".jl",
   "mimetype": "application/julia",
   "name": "julia",
   "version": "1.7.3"
  },
  "orig_nbformat": 4
 },
 "nbformat": 4,
 "nbformat_minor": 2
}
